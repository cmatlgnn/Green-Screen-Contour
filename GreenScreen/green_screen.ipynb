{
 "cells": [
  {
   "cell_type": "code",
   "execution_count": 1,
   "id": "06ee054a-da2c-46f0-8b13-e9fb1420377b",
   "metadata": {},
   "outputs": [
    {
     "data": {
      "text/plain": [
       "-1"
      ]
     },
     "execution_count": 1,
     "metadata": {},
     "output_type": "execute_result"
    }
   ],
   "source": [
    "# import the necessary packages\n",
    "import cv2\n",
    "import numpy as np\n",
    "import imutils\n",
    "\n",
    "\n",
    "#load image\n",
    "img = cv2.imread(\"GreenScreen.jpg\")\n",
    "\n",
    "#reshape image\n",
    "img_reshaped=cv2.resize(img, (800,600))\n",
    "\n",
    "# convert image color to hsv\n",
    "hsv = cv2.cvtColor(img_reshaped, cv2.COLOR_BGR2HSV)\n",
    "\n",
    "#specify mask for green color\n",
    "lower_green = np.array([50, 50, 50])\n",
    "upper_green = np.array([70, 255, 255])\n",
    "\n",
    "# filtering process for green area\n",
    "mask = cv2.inRange(hsv, lower_green, upper_green)\n",
    "green_screen = cv2.bitwise_and(img_reshaped, img_reshaped, mask=mask)\n",
    "\n",
    "# convert to filtered area into gray scale\n",
    "gray = cv2.cvtColor(green_screen, cv2.COLOR_BGR2GRAY)\n",
    "\n",
    "# reduce the noise and smooth the image\n",
    "gray = cv2.GaussianBlur(gray, (5, 5), 0)\n",
    "\n",
    "# threshold the image\n",
    "thresh = cv2.threshold(gray, 45, 255, cv2.THRESH_BINARY)[1]\n",
    "\n",
    "# opening process (erosions + dilations) for remove any small regions of noise\n",
    "thresh = cv2.erode(thresh, None, iterations=2)\n",
    "thresh = cv2.dilate(thresh, None, iterations=2)\n",
    "\n",
    "# find contours in thresholded image\n",
    "contours_points = cv2.findContours(thresh.copy(), cv2.RETR_EXTERNAL, cv2.CHAIN_APPROX_SIMPLE)\n",
    "\n",
    "# for use the contour points easily \n",
    "contours_points = imutils.grab_contours(contours_points)\n",
    "\n",
    "# find the largest area in contours_points tuple\n",
    "area = max(contours_points, key=cv2.contourArea)\n",
    "\n",
    "\n",
    "# draw the outline of the object\n",
    "cv2.drawContours(img_reshaped, [area], -1, (0, 0, 255), 6)\n",
    "\n",
    "# show the output image\n",
    "cv2.imshow(\"Image\", img_reshaped)\n",
    "cv2.waitKey(0)"
   ]
  },
  {
   "cell_type": "code",
   "execution_count": null,
   "id": "f68128d4-3e6a-4578-8715-dfbaefa859c3",
   "metadata": {},
   "outputs": [],
   "source": []
  }
 ],
 "metadata": {
  "kernelspec": {
   "display_name": "Python 3 (ipykernel)",
   "language": "python",
   "name": "python3"
  },
  "language_info": {
   "codemirror_mode": {
    "name": "ipython",
    "version": 3
   },
   "file_extension": ".py",
   "mimetype": "text/x-python",
   "name": "python",
   "nbconvert_exporter": "python",
   "pygments_lexer": "ipython3",
   "version": "3.10.9"
  }
 },
 "nbformat": 4,
 "nbformat_minor": 5
}
